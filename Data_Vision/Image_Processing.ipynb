{
 "cells": [
  {
   "cell_type": "code",
   "execution_count": null,
   "id": "550b71cb-3822-4021-9446-aff7aa085180",
   "metadata": {},
   "outputs": [],
   "source": [
    "# Image Histogram\n",
    "cv.calcHist()\n",
    "# OR..\n",
    "def get_histogram(gray_img):\n",
    "    hist = np.zeros((256), dtype=np.uint32)\n",
    "    for val in range(0, 256):\n",
    "        hist[val] = sum(sum(gray_img == val))\n",
    "    return hist\n",
    "\n",
    "def conv_hist2img(hist):\n",
    "    img = np.full((256, 256), 255, dtype=np.uint8)\n",
    "    max_freq = max(hist)\n",
    "    for val in range(len(hist)):\n",
    "        normalized_freq = int(hist[val] / max_freq * 255)\n",
    "        img[0:normalized_freq, val] = 0\n",
    "    return img[::-1,:]"
   ]
  },
  {
   "cell_type": "code",
   "execution_count": null,
   "id": "4bac14e6-37c6-4cf2-a0a3-5b52c4105a86",
   "metadata": {},
   "outputs": [],
   "source": [
    "# Contrast Stretching (Min - Max)\n",
    "cv.intensity_transform.contrastStretching()\n",
    "\n",
    "# Histogram Equalization\n",
    "cv.equalizeHist()\n",
    "\n",
    "# Thresholding (Example of Sudoku)\n",
    "\n",
    "# Read the given image as gray scale\n",
    "img= cv.imread('../data/sudoku.png', cv.IMREAD_GRAYSCALE)\n",
    "img_threshold_type= cv.THRESH_BINARY_INV # Type: Detect pixels close to 'black' (inverse)\n",
    "\n",
    "# Initialize control parameters\n",
    "threshold = 127\n",
    "adaptive_type= cv.ADAPTIVE_THRESH_MEAN_C\n",
    "adaptive_blocksize= 99\n",
    "adaptive_C= 4\n",
    "\n",
    "while True:\n",
    "# Apply thresholding to the image (User, Otsu's, Adaptive)\n",
    "_, binary_user= cv.threshold(img, threshold, 255, img_threshold_type)\n",
    "threshold_otsu, binary_otsu= cv.threshold(img, threshold, 255, img_threshold_type | cv.THRESH_OTSU)\n",
    "binary_adaptive= cv.adaptiveThreshold(img, 255, adaptive_type, img_threshold_type, adaptive_blocksize, adaptive_C)"
   ]
  },
  {
   "cell_type": "code",
   "execution_count": null,
   "id": "5d250047-677e-487f-9a17-9087459aa3c5",
   "metadata": {},
   "outputs": [],
   "source": [
    "# Image Filtering\n",
    "\n",
    "# Smoothing - Box Blur, Gaussian Blur, Median Blur\n",
    "cv.boxFilter()\n",
    "cv.blur()\n",
    "cv.GaussianBlur()\n",
    "cv.medianBlur() # Effective to remove Impulse Noise "
   ]
  }
 ],
 "metadata": {
  "kernelspec": {
   "display_name": "Python [conda env:base] *",
   "language": "python",
   "name": "conda-base-py"
  },
  "language_info": {
   "codemirror_mode": {
    "name": "ipython",
    "version": 3
   },
   "file_extension": ".py",
   "mimetype": "text/x-python",
   "name": "python",
   "nbconvert_exporter": "python",
   "pygments_lexer": "ipython3",
   "version": "3.12.7"
  }
 },
 "nbformat": 4,
 "nbformat_minor": 5
}
