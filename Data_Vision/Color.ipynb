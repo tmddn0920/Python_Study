{
 "cells": [
  {
   "cell_type": "code",
   "execution_count": null,
   "id": "0cbc7617-4d17-447e-bb20-807169008361",
   "metadata": {},
   "outputs": [],
   "source": [
    "# Color Space Conversion (HSV)\n",
    "import numpy as np\n",
    "import cv2 as cv\n",
    "\n",
    "img= cv.imread('Sample Image URL')\n",
    "assert img is not None, 'Cannot read the given image'\n",
    "\n",
    "# Convert the BGR image to its HSV image\n",
    "img_hsv= cv.cvtColor(img, cv.COLOR_BGR2HSV)\n",
    "\n",
    "# Show hue, saturation, and value channels as color images\n",
    "img_hue= np.dstack((img_hsv[:,:,0], \n",
    "                    np.full_like(img_hsv[:,:,0], 255),\n",
    "                    np.full_like(img_hsv[:,:,0], 255)))\n",
    "img_hue= cv.cvtColor(img_hue, cv.COLOR_HSV2BGR) # Area for H(색상)\n",
    "img_sat= np.dstack((img_hsv[:,:,1], ) * 3) # Area for S(채도)\n",
    "img_val = np.dstack((img_hsv[:,:,2], ) * 3) # Area for V(명도)\n",
    "merge = np.hstack((img, img_hue, img_sat, img_val))\n",
    "cv.imshow('Color Conversion: Image | Hue | Saturation | Value', merge)\n",
    "cv.waitKey()\n",
    "cv.destroyAllWindows()"
   ]
  },
  {
   "cell_type": "code",
   "execution_count": null,
   "id": "b8e0ed68-57d5-477b-bfde-2c05bb0ae4bc",
   "metadata": {},
   "outputs": [],
   "source": [
    "# Color Histogram equalization\n",
    "\n",
    "img_list= [...]\n",
    "\n",
    "# Initialize a control parameter\n",
    "img_select= 0\n",
    "\n",
    "while True:\n",
    "    # Read the given image\n",
    "    img= cv.imread(img_list[img_select])\n",
    "    \n",
    "    # Apply histogram equalization to each channel\n",
    "    img_hist1 = np.dstack((cv.equalizeHist(img[:,:,0]),\n",
    "    cv.equalizeHist(img[:,:,1]),\n",
    "    cv.equalizeHist(img[:,:,2])))\n",
    "\n",
    "    # Apply histogram equalization only to the luminance channel in YCbCr\n",
    "    img_cvt= cv.cvtColor(img, cv.COLOR_BGR2YCrCb)\n",
    "    img_hist2 = np.dstack((cv.equalizeHist(img_cvt[:,:,0]),\n",
    "    img_cvt[:,:,1],\n",
    "    img_cvt[:,:,2]))\n",
    "    img_hist2 = cv.cvtColor(img_hist2, cv.COLOR_YCrCb2BGR)\n",
    "# Show all images\n",
    "merge = np.hstack((img, img_hist1, img_hist2))\n",
    "cv.imshow('Color Histogram Equalization: Image | Each Channel | Luminance Channel', merge)\n",
    "key = cv.waitKey()\n",
    "if key == 27: # ESC"
   ]
  }
 ],
 "metadata": {
  "kernelspec": {
   "display_name": "Python [conda env:base] *",
   "language": "python",
   "name": "conda-base-py"
  },
  "language_info": {
   "codemirror_mode": {
    "name": "ipython",
    "version": 3
   },
   "file_extension": ".py",
   "mimetype": "text/x-python",
   "name": "python",
   "nbconvert_exporter": "python",
   "pygments_lexer": "ipython3",
   "version": "3.12.7"
  }
 },
 "nbformat": 4,
 "nbformat_minor": 5
}
